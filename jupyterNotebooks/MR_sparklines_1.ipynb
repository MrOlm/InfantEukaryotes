{
 "cells": [
  {
   "cell_type": "code",
   "execution_count": 1,
   "metadata": {},
   "outputs": [],
   "source": [
    "import os\n",
    "import sys\n",
    "import glob\n",
    "import scipy\n",
    "import matplotlib\n",
    "import numpy as np\n",
    "import pandas as pd\n",
    "import seaborn as sns\n",
    "from collections import defaultdict\n",
    "from matplotlib import pyplot as plt\n",
    "from matplotlib.backends.backend_pdf import PdfPages\n",
    "\n",
    "%matplotlib inline\n",
    "sns.set_style('whitegrid')\n",
    "pd.set_option('display.max_rows', 100)\n",
    "matplotlib.rcParams['ps.fonttype'] = 42\n",
    "matplotlib.rcParams['pdf.fonttype'] = 42\n",
    "pd.set_option('display.max_columns', 100)\n",
    "\n",
    "sys.path.append('/home/mattolm/Bio_scripts/')\n",
    "import StatsTools"
   ]
  },
  {
   "cell_type": "markdown",
   "metadata": {},
   "source": [
    "## Point"
   ]
  },
  {
   "cell_type": "code",
   "execution_count": 2,
   "metadata": {},
   "outputs": [],
   "source": [
    "sheetloc = '/data8/Human/FungiPaper/Datasheets/'\n",
    "fig_loc = '/data8/Human/FungiPaper/figures/'"
   ]
  },
  {
   "cell_type": "markdown",
   "metadata": {},
   "source": [
    "## Load genome coverage information"
   ]
  },
  {
   "cell_type": "code",
   "execution_count": 3,
   "metadata": {},
   "outputs": [],
   "source": [
    "Gdb = pd.read_csv(sheetloc + 'MappingListGamma_coverageInfantsParsed_filtered_v1.csv')"
   ]
  },
  {
   "cell_type": "markdown",
   "metadata": {},
   "source": [
    "## Load antibiotic info"
   ]
  },
  {
   "cell_type": "code",
   "execution_count": 4,
   "metadata": {},
   "outputs": [],
   "source": [
    "Ndb = pd.read_csv(sheetloc + 'parsed_AB_info_v1.csv')"
   ]
  },
  {
   "cell_type": "markdown",
   "metadata": {},
   "source": [
    "### Set up colormap"
   ]
  },
  {
   "cell_type": "code",
   "execution_count": 5,
   "metadata": {},
   "outputs": [
    {
     "data": {
      "image/png": "[encoded data removed]",
      "text/plain": [
       "<Figure size 900x100 with 1 Axes>"
      ]
     },
     "metadata": {},
     "output_type": "display_data"
    }
   ],
   "source": [
    "relevent_genomes = Gdb['common_name'].unique()\n",
    "relevent_infants = Gdb['infant'].unique()\n",
    "Bdb = Gdb[(Gdb['common_name'].isin(relevent_genomes)) & \\\n",
    "          (Gdb['infant'].isin(relevent_infants))]\n",
    "\n",
    "cp = sns.choose_colorbrewer_palette('qualitative')\n",
    "cm = {g:c for g,c in zip(relevent_genomes, cp)}"
   ]
  },
  {
   "cell_type": "markdown",
   "metadata": {},
   "source": [
    "### Subset and handle DOL"
   ]
  },
  {
   "cell_type": "code",
   "execution_count": 6,
   "metadata": {},
   "outputs": [],
   "source": [
    "Bdb = Bdb[Bdb['loc'] == 'G']\n",
    "Bdb['DOL'] = [int(x[7:10]) + (int(x[11])-1)*0.5 if x[:6] == 'SP_CRL' \\\n",
    "              else d for x,d in zip(Bdb['sample'], Bdb['DOL'])]"
   ]
  },
  {
   "cell_type": "code",
   "execution_count": 7,
   "metadata": {},
   "outputs": [],
   "source": [
    "order = ['Candida albicans', 'Purpureocillium lilacinum',\n",
    "         'Candida parapsilosis',\n",
    "       'Candida tropicalis', 'Clavispora lusitaniae', \n",
    "       'Malassezia pachydermatis', 'Malassezia sympodialis', 'Trichosporon asahii', \n",
    "       ]"
   ]
  },
  {
   "cell_type": "markdown",
   "metadata": {},
   "source": [
    "### Print out the max values (to manually add to plot)"
   ]
  },
  {
   "cell_type": "code",
   "execution_count": 8,
   "metadata": {},
   "outputs": [
    {
     "name": "stdout",
     "output_type": "stream",
     "text": [
      "N1_023 96.25355432903393\n",
      "N5_264 78.40742912346592\n",
      "S2_018 70.8187854225256\n",
      "N3_182 55.265128691226785\n",
      "S2_012 34.21820216877373\n",
      "N5_275 28.78841034551544\n",
      "S2_002 16.50252969078924\n",
      "S2_006 13.138545440785556\n",
      "N2_070 5.4793211218582165\n",
      "SP_CRL 4.5155646363945925\n",
      "N5_254 0.6039299683367481\n",
      "N4_116 0.5712483081434694\n",
      "N2_064 0.4061167480109252\n"
     ]
    }
   ],
   "source": [
    "i2m = defaultdict(int)\n",
    "for gen, gdb in Bdb.groupby('common_name'):\n",
    "    for inf, db in gdb.groupby('infant'):\n",
    "        if len(db[db['breadth'] >= .1]) == 0:\n",
    "            continue\n",
    "        db = db[db['DOL'] != 0]\n",
    "        i2m[inf] = max(db['pp'].max(), i2m[inf])\n",
    "\n",
    "        \n",
    "for w in sorted(i2m, key=i2m.get, reverse=True):\n",
    "    print(w, i2m[w])\n",
    "\n",
    "iorder = sorted(i2m, key=i2m.get, reverse=True)"
   ]
  },
  {
   "cell_type": "markdown",
   "metadata": {},
   "source": [
    "## Plot\n",
    "\n",
    "https://stackoverflow.com/questions/27543605/creating-sparklines-using-matplotlib-in-python"
   ]
  },
  {
   "cell_type": "code",
   "execution_count": 11,
   "metadata": {},
   "outputs": [
    {
     "name": "stdout",
     "output_type": "stream",
     "text": [
      "Candida albicans\n",
      "N1_023\n"
     ]
    },
    {
     "name": "stderr",
     "output_type": "stream",
     "text": [
      "/home/mattolm/.pyenv/versions/anaconda3-4.1.0/lib/python3.5/site-packages/ipykernel/__main__.py:26: SettingWithCopyWarning: \n",
      "A value is trying to be set on a copy of a slice from a DataFrame\n",
      "\n",
      "See the caveats in the documentation: http://pandas.pydata.org/pandas-docs/stable/indexing.html#indexing-view-versus-copy\n"
     ]
    },
    {
     "name": "stdout",
     "output_type": "stream",
     "text": [
      "N5_264\n",
      "S2_006\n",
      "N2_070\n",
      "SP_CRL\n",
      "N2_064\n",
      "Purpureocillium lilacinum\n",
      "S2_018\n",
      "S2_012\n",
      "N4_116\n",
      "Candida parapsilosis\n",
      "N3_182\n",
      "N5_275\n",
      "Candida tropicalis\n",
      "N5_254\n",
      "Clavispora lusitaniae\n",
      "N2_070\n",
      "Malassezia pachydermatis\n",
      "S2_002\n",
      "Malassezia sympodialis\n",
      "N5_275\n",
      "Trichosporon asahii\n",
      "N5_275\n"
     ]
    },
    {
     "data": {
      "image/png": "[encoded data removed]",
      "text/plain": [
       "<Figure size 500x700 with 16 Axes>"
      ]
     },
     "metadata": {},
     "output_type": "display_data"
    }
   ],
   "source": [
    "import matplotlib.patches as patches\n",
    "Fdb = Bdb.copy()\n",
    "\n",
    "# order infants\n",
    "Fdb['infant'] = pd.Categorical(Fdb['infant'], iorder)\n",
    "Fdb = Fdb.sort_values('infant')\n",
    "\n",
    "# order names\n",
    "Fdb['common_name'] = pd.Categorical(Fdb['common_name'], order)\n",
    "Fdb = Fdb.sort_values('common_name')\n",
    "\n",
    "# set up figure\n",
    "num_plots = (len(Fdb[Fdb['breadth'] > 0.1].drop_duplicates(\\\n",
    "        subset=['common_name', 'infant'])))\n",
    "fig = plt.figure()\n",
    "sns.set_style('white')\n",
    "\n",
    "# make the plots\n",
    "i = 1\n",
    "axs = []\n",
    "for gen, gdb in Fdb.groupby('common_name'):\n",
    "    print(gen)\n",
    "    for inf, db in gdb.groupby('infant'):\n",
    "        if len(db[db['breadth'] >= .1]) == 0:\n",
    "            continue\n",
    "        db = db[db['DOL'] != 0]\n",
    "        db.sort_values('DOL', inplace=True)\n",
    "        \n",
    "        if len(db) == 0:\n",
    "            print(\"FUCKING {0}\".format(inf))\n",
    "            continue\n",
    "            \n",
    "        if i == 1: # first plot\n",
    "            ax1 = fig.add_subplot(num_plots,1,i) # nrows, ncols, plot_number, top sparkline)\n",
    "            ax = ax1\n",
    "        elif i == (num_plots): # last plot\n",
    "            axL = fig.add_subplot(num_plots,1,i, sharex=ax1)\n",
    "            ax = axL\n",
    "        else:\n",
    "            ax = fig.add_subplot(num_plots,1,i, sharex=ax1)\n",
    "        i += 1\n",
    "        \n",
    "        ax.plot(db['DOL'], db['pp'], c=cm[gen], marker='o', markersize=2)\n",
    "        ax.axhline(0, c='grey', alpha=0.25)\n",
    "        axs.append(ax)\n",
    "        \n",
    "        # Add antibiotic info\n",
    "        d = Ndb[Ndb['infant'] == inf].drop_duplicates(subset=['start', 'end'])\n",
    "        for ii, row in d.iterrows():\n",
    "            h = db['pp'].max()\n",
    "            y = 0\n",
    "            x = row['start']\n",
    "            w = int(row['end']) - x\n",
    "\n",
    "            ax.add_patch(patches.Rectangle((x,y),w,h,color='brown', alpha=0.2, zorder=0))\n",
    "        \n",
    "        #print(\"{0} {1} {2:.2f}\".format(gen, inf, db['pp'].max()))\n",
    "        print(\"{1}\".format(gen, inf, db['pp'].max()))\n",
    "        #print(\"{2:.1f}%\".format(gen, inf, db['pp'].max()))\n",
    "        #print(\"{0} {1}\".format(db['DOL'].min(), db['DOL'].max()))\n",
    "        \n",
    "\n",
    "        \n",
    "# remove borders\n",
    "for axes in axs:\n",
    "    plt.setp(axes.get_xticklabels(), visible=False)\n",
    "    plt.setp(axes.get_yticklabels(), visible=False)\n",
    "    plt.setp(axes.get_xticklines(), visible=False)\n",
    "    plt.setp(axes.get_yticklines(), visible=False)\n",
    "    plt.setp(axes.spines.values(), visible=False)\n",
    "    \n",
    "# bottom\n",
    "plt.setp(axL.get_xticklabels(), visible=True)\n",
    "plt.setp(axL.get_xticklines(), visible=True)\n",
    "axL.xaxis.tick_bottom()\n",
    "           \n",
    "# display\n",
    "plt.xlim(0,60)\n",
    "plt.xticks([0,10,20,30,40,50,60], [0,10,20,30,40,50,60])\n",
    "plt.xlabel('Day of life')\n",
    "fig.set_size_inches(5, 7)\n",
    "plt.savefig(fig_loc + 'sparkline_v2.pdf', bbox_inches='tight')\n",
    "plt.show()"
   ]
  },
  {
   "cell_type": "code",
   "execution_count": null,
   "metadata": {},
   "outputs": [],
   "source": []
  }
 ],
 "metadata": {
  "kernelspec": {
   "display_name": "Python 3.6.1",
   "language": "python",
   "name": "python3"
  },
  "language_info": {
   "codemirror_mode": {
    "name": "ipython",
    "version": 3
   },
   "file_extension": ".py",
   "mimetype": "text/x-python",
   "name": "python",
   "nbconvert_exporter": "python",
   "pygments_lexer": "ipython3",
   "version": "3.6.1"
  }
 },
 "nbformat": 4,
 "nbformat_minor": 2
}
