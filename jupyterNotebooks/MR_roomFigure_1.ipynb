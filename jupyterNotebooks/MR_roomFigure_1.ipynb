{
 "cells": [
  {
   "cell_type": "code",
   "execution_count": 1,
   "metadata": {},
   "outputs": [],
   "source": [
    "import os\n",
    "import sys\n",
    "import glob\n",
    "import scipy\n",
    "import matplotlib\n",
    "import numpy as np\n",
    "import pandas as pd\n",
    "import seaborn as sns\n",
    "from collections import defaultdict\n",
    "from matplotlib import pyplot as plt\n",
    "from matplotlib.backends.backend_pdf import PdfPages\n",
    "\n",
    "%matplotlib inline\n",
    "sns.set_style('whitegrid')\n",
    "pd.set_option('display.max_rows', 100)\n",
    "matplotlib.rcParams['ps.fonttype'] = 42\n",
    "matplotlib.rcParams['pdf.fonttype'] = 42\n",
    "pd.set_option('display.max_columns', 100)\n",
    "\n",
    "sys.path.append('/home/mattolm/Bio_scripts/')\n",
    "\n",
    "from IPython.display import display, HTML\n",
    "\n",
    "import scipy.spatial\n",
    "import sklearn.manifold\n",
    "import matplotlib.patches as mpatches\n",
    "import StatsTools"
   ]
  },
  {
   "cell_type": "code",
   "execution_count": 2,
   "metadata": {},
   "outputs": [],
   "source": [
    "sheetloc = '/data8/Human/FungiPaper/Datasheets/'\n",
    "fig_loc = '/data8/Human/FungiPaper/figures/'\n",
    "\n",
    "Pdb = pd.read_csv('/home/mattolm/ReadLists/ProjectInformation/ROOM_project_info.csv')\n",
    "s2rb = Pdb.set_index('public_code')['read_bases'].to_dict()"
   ]
  },
  {
   "cell_type": "markdown",
   "metadata": {},
   "source": [
    "### Load Coverage / breadth information"
   ]
  },
  {
   "cell_type": "code",
   "execution_count": 6,
   "metadata": {},
   "outputs": [],
   "source": [
    "Gdb = pd.read_csv(sheetloc + 'MappingListGamma_strainProfilerv2_v2.3.csv')\n",
    "\n",
    "## Add some identifying information\n",
    "Gdb['loc'] = [x[10] for x in Gdb['sample']]\n",
    "Gdb['room_loc'] = [x[11] for x in Gdb['sample']]\n",
    "Gdb['infant'] = [x[:6] for x in Gdb['sample']]\n",
    "\n",
    "## Subset to room\n",
    "Gdb = Gdb[~Gdb['loc'].isin(['G', 'E'])]\n",
    "\n",
    "## Filter \n",
    "BREADTH = 0.5\n",
    "Gdb = Gdb.sort_values('mm').drop_duplicates(subset=['genome', 'sample'], keep='last')\n",
    "Gdb = Gdb[Gdb['breadth'] >= BREADTH]\n",
    "#Gdb = Gdb[Gdb['name'] != 'Purpureocillium lilacinum']\n",
    "\n",
    "## Add percent project\n",
    "Gdb['pp'] = [((c*l)/s2rb[s]) * 100 for c, l, s in zip(Gdb['coverage'],\\\n",
    "                Gdb['length'], Gdb['sample'])]"
   ]
  },
  {
   "cell_type": "code",
   "execution_count": 7,
   "metadata": {},
   "outputs": [],
   "source": [
    "Bdb = Gdb[Gdb['name'] != 'Purpureocillium lilacinum']"
   ]
  },
  {
   "cell_type": "markdown",
   "metadata": {},
   "source": [
    "### Set up naming"
   ]
  },
  {
   "cell_type": "code",
   "execution_count": 8,
   "metadata": {},
   "outputs": [
    {
     "name": "stderr",
     "output_type": "stream",
     "text": [
      "/home/mattolm/.pyenv/versions/anaconda3-4.1.0/lib/python3.5/site-packages/ipykernel/__main__.py:10: SettingWithCopyWarning: \n",
      "A value is trying to be set on a copy of a slice from a DataFrame.\n",
      "Try using .loc[row_indexer,col_indexer] = value instead\n",
      "\n",
      "See the caveats in the documentation: http://pandas.pydata.org/pandas-docs/stable/indexing.html#indexing-view-versus-copy\n"
     ]
    }
   ],
   "source": [
    "n2n = {'C_parapsilosis_CDC317_current_chromosomes': 'Candida parapsilosis',\n",
    "       'Nectria haematococca mpVI 77-13-4':'Nectria haematococca', \n",
    "       'Malassezia globosa CBS 7966':'Malassezia globosa',\n",
    "       'Purpureocillium lilacinum':'Purpureocillium lilacinum', \n",
    "       'S2_005_001R2_Rhabditida':'Rhabditida S2_005_001R2',\n",
    "       'S2_005_001R2_Verruconis_gallopava':'Verruconis sp. S2_005_001R2',\n",
    "       'S2_005_002R2_Diptera':'Diptera S2_005_002R2',\n",
    "       'S2_009_000R2_Exophiala_mesophila':'Exophiala sp. S2_009_000R2',\n",
    "       'S2_018_000R1_Malassezia_globosa':'Malassezia sp. S2_018_000R1'}\n",
    "Bdb['name2'] = Bdb['name'].map(n2n)"
   ]
  },
  {
   "cell_type": "code",
   "execution_count": 9,
   "metadata": {},
   "outputs": [
    {
     "data": {
      "text/plain": [
       "Malassezia sp. S2_018_000R1    10\n",
       "Malassezia globosa              6\n",
       "Candida parapsilosis            4\n",
       "Verruconis sp. S2_005_001R2     3\n",
       "Nectria haematococca            3\n",
       "Exophiala sp. S2_009_000R2      3\n",
       "Rhabditida S2_005_001R2         3\n",
       "Diptera S2_005_002R2            1\n",
       "Name: name2, dtype: int64"
      ]
     },
     "execution_count": 9,
     "metadata": {},
     "output_type": "execute_result"
    }
   ],
   "source": [
    "Bdb['name2'].value_counts()"
   ]
  },
  {
   "cell_type": "markdown",
   "metadata": {},
   "source": [
    "## Compute braycurtis distance between all samples"
   ]
  },
  {
   "cell_type": "code",
   "execution_count": 10,
   "metadata": {},
   "outputs": [],
   "source": [
    "table = defaultdict(list)\n",
    "\n",
    "genomes = list(Bdb['genome'].unique())\n",
    "for samp in Bdb['sample'].unique():\n",
    "    g2p_1 = Bdb[Bdb['sample'] == samp].set_index('genome')['pp'].to_dict()\n",
    "    for samp2 in Bdb['sample'].unique():\n",
    "        g2p_2 = Bdb[Bdb['sample'] == samp2].set_index('genome')['pp'].to_dict()\n",
    "        \n",
    "        g1 = [g2p_1[x] if x in g2p_1 else 0 for x in genomes]\n",
    "        g2 = [g2p_2[x] if x in g2p_2 else 0 for x in genomes]\n",
    "        dist = scipy.spatial.distance.braycurtis(g1, g2)\n",
    "        \n",
    "        table['sample1'].append(samp)\n",
    "        table['sample2'].append(samp2)\n",
    "        table['distance'].append(dist)\n",
    "Ddb = pd.DataFrame(table)"
   ]
  },
  {
   "cell_type": "markdown",
   "metadata": {},
   "source": [
    "## Set up colors and markers"
   ]
  },
  {
   "cell_type": "code",
   "execution_count": 11,
   "metadata": {},
   "outputs": [],
   "source": [
    "# Get colors set up (room)\n",
    "# https://sashat.me/2017/01/11/list-of-20-simple-distinct-colors/\n",
    "c2r = {}\n",
    "for room, color in zip(Gdb['infant'].unique(),\n",
    "    ['#e6194b', '#3cb44b', \"#ffe119\", \"#0082c8\", \"#f58231\", \"#911eb4\"]):\n",
    "    c2r[room] = color\n",
    "    \n",
    "s2m = {'1':'o', '2':'^', '3':'s'}"
   ]
  },
  {
   "cell_type": "markdown",
   "metadata": {},
   "source": [
    "## Make MDS plot"
   ]
  },
  {
   "cell_type": "code",
   "execution_count": 29,
   "metadata": {},
   "outputs": [
    {
     "data": {
      "image/png": "[encoded data removed]",
      "text/plain": [
       "<Figure size 640x480 with 1 Axes>"
      ]
     },
     "metadata": {},
     "output_type": "display_data"
    }
   ],
   "source": [
    "# Get set up\n",
    "linkage_db = Ddb.pivot(\"sample1\",\"sample2\",\"distance\")\n",
    "names = list(linkage_db.columns)\n",
    "mds = sklearn.manifold.MDS(n_components=2, dissimilarity=\"precomputed\", random_state=6)\n",
    "results = mds.fit(linkage_db)\n",
    "stress = results.stress_\n",
    "\n",
    "# Pull coordinates\n",
    "coords = results.embedding_\n",
    "sns.set_style('white')\n",
    "sns.set_context(font_scale=1.5)\n",
    "\n",
    "# Plot one at a time\n",
    "for name, x, y in zip(names, coords[:, 0], coords[:, 1]):\n",
    "    # set color\n",
    "    colors = [c2r[name[:6]]]\n",
    "    # set marker\n",
    "    m = s2m[name[11]]\n",
    "    \n",
    "    plt.scatter(\n",
    "        x, y, marker = m, linestyle = 'None',\\\n",
    "        color=colors, s=200,  edgecolors='black', linewidths=0.5, alpha=0.8)\n",
    "\n",
    "# Horrible annotation\n",
    "if False:\n",
    "    for label, x, y in zip(names, coords[:, 0], coords[:, 1]):\n",
    "        plt.annotate(\n",
    "            label,\n",
    "            xy = (x, y), xytext = (-20, 20),\n",
    "            textcoords = 'offset points', ha = 'right', va = 'bottom',\n",
    "            bbox = dict(boxstyle = 'round,pad=0.5', fc = 'yellow', alpha = 0.5),\n",
    "            arrowprops = dict(arrowstyle = '->', connectionstyle = 'arc3,rad=0'))\n",
    "\n",
    "# Add color legend\n",
    "legendC = c2r\n",
    "patches = [mpatches.Patch(color = color, label = label)\n",
    "            for label, color in zip(sorted(list(legendC.keys())),\\\n",
    "            [c2r[x] for x in sorted(legendC.keys())])]\n",
    "lgd = plt.legend(patches, sorted(list(legendC.keys())), loc='lower center', \\\n",
    "            prop = {'size': 12, 'style': 'italic'}, title='Infant', ncol=3, bbox_to_anchor=(.51, -0.25))\n",
    "\n",
    "# Adjust figure properties\n",
    "axes = plt.gca()\n",
    "fig = plt.gcf()\n",
    "fig.set_size_inches(6.4, 4.8)\n",
    "plt.title('MDS of NICU Eukaryotic Communities based on \\nbray-curtis similarity', size=16)\n",
    "plt.xticks([])\n",
    "plt.yticks([])\n",
    "\n",
    "#plt.savefig(fig_loc + 'NICU_MDS_v3' + \".pdf\",format=\"pdf\",transparent=True, bbox_inches='tight')\n",
    "plt.show()"
   ]
  },
  {
   "cell_type": "markdown",
   "metadata": {},
   "source": [
    "### Calculate stress"
   ]
  },
  {
   "cell_type": "code",
   "execution_count": 30,
   "metadata": {},
   "outputs": [
    {
     "data": {
      "text/plain": [
       "0.23282790893827157"
      ]
     },
     "execution_count": 30,
     "metadata": {},
     "output_type": "execute_result"
    }
   ],
   "source": [
    "normstress = np.sqrt(stress /\n",
    "                             ((linkage_db.values.ravel() ** 2).sum() / 2))\n",
    "normstress"
   ]
  },
  {
   "cell_type": "markdown",
   "metadata": {},
   "source": [
    "### circle = 1 (highly touched), triangle = 2 (sink), square = 3 (wipes)"
   ]
  },
  {
   "cell_type": "markdown",
   "metadata": {},
   "source": [
    "# Look at bar charts of those genomes in all rooms"
   ]
  },
  {
   "cell_type": "markdown",
   "metadata": {},
   "source": [
    "https://chrisalbon.com/python/data_visualization/matplotlib_grouped_bar_plot/"
   ]
  },
  {
   "cell_type": "code",
   "execution_count": 13,
   "metadata": {},
   "outputs": [
    {
     "name": "stderr",
     "output_type": "stream",
     "text": [
      "/home/mattolm/.pyenv/versions/anaconda3-4.1.0/lib/python3.5/site-packages/pandas/core/frame.py:6211: FutureWarning: Sorting because non-concatenation axis is not aligned. A future version\n",
      "of pandas will change to not sort by default.\n",
      "\n",
      "To accept the future behavior, pass 'sort=False'.\n",
      "\n",
      "To retain the current behavior and silence the warning, pass 'sort=True'.\n",
      "\n",
      "  sort=sort)\n"
     ]
    },
    {
     "data": {
      "image/png": "[encoded data removed]",
      "text/plain": [
       "<Figure size 800x500 with 1 Axes>"
      ]
     },
     "metadata": {},
     "output_type": "display_data"
    }
   ],
   "source": [
    "def simple_stacks_v2_custom(data, x, y, hue, palette = False, size = (5, 3), \\\n",
    "                    xlim = False, ylim = False, xtitle='', ytitle='',\\\n",
    "                    width = 0.75, title='', save=False, x2x=None):\n",
    "    \"\"\"\n",
    "    plot stacked bar chart\n",
    "    \n",
    "    * v2 = just cleaned up a little with more comments and other minor fixes\n",
    "    \n",
    "    palette = hue -> color\n",
    "    \"\"\"\n",
    "\n",
    "    # legend\n",
    "    plt.legend(loc='best', prop = {'size': 10})\n",
    "\n",
    "    # order to plot each item based on most abundant first\n",
    "    items = list(data[hue].unique()) # all hues (genomes)\n",
    "#     items = [(sum([i for i in data[data[hue] == s][y].values\\\n",
    "#                    if type(i) is float]), s) for s in items] # (sum of values, hue)\n",
    "#     items = [i[1] for i in sorted(items, reverse = True)] # hues ordered by sum\n",
    "\n",
    "    # values\n",
    "    X_labels = list(data[x].unique()) # All x labels\n",
    "    X = list(range(0, len(X_labels))) # range of x labels\n",
    "\n",
    "    # count data for plotting\n",
    "    running = [0 for i in X]\n",
    "    Iabundance = [] # [hue, [sum(hue) for every x + previous hues], [sum(hue) for every x ]]\n",
    "    for s in items:\n",
    "        hdb = data[data[hue] == s] # dataframe with only this hue (s)\n",
    "        abundance = [] # list of the abundance of values for this hue\n",
    "        for xi in X_labels:\n",
    "            a = np.nan_to_num(hdb[hdb[x] == xi][y].values) # all values of this hue + x\n",
    "            if len(a) == 0:\n",
    "                abundance.append(0)\n",
    "            else:\n",
    "                a = [i for i in a if type(i) is not str] \n",
    "                abundance.append(np.nansum(a)) # append all values\n",
    "                \n",
    "        running = [i + j for i, j in zip(running, abundance)] # this hue + all previous hues\n",
    "        Iabundance.append([s, running, abundance])\n",
    "    \n",
    "    # plot abundance\n",
    "    for s, running, abundance in Iabundance[::-1]:\n",
    "        # s = hue, running = [sum(x) + previous for x in hue]\n",
    "        if palette == False:\n",
    "            plt.bar(X, running, \\\n",
    "                             label = s,\\\n",
    "                            width = width, alpha = 1)\n",
    "        else:\n",
    "            plt.bar(X, running, \\\n",
    "                             label = s, color = palette[s],\\\n",
    "                            width = width, alpha = 1)\n",
    "    if x2x != None:\n",
    "        plt.xticks([xi for xi in X], [x2x[x] if x[-1] != 'X' else '' for x in X_labels], rotation='vertical')\n",
    "    else:\n",
    "        plt.xticks([xi for xi in X], [x if x[-1] != 'X' else '' for x in X_labels], rotation='vertical')\n",
    "    #plt.xticks(X, X_labels, rotation='vertical')\n",
    "\n",
    "    # legend\n",
    "    plt.legend(loc='lower center', bbox_to_anchor=(.51, -1.25), \\\n",
    "            prop = {'size': 10, 'style': 'italic'}, ncol=3)\n",
    "    \n",
    "#     plt.legend(loc='upper right', bbox_to_anchor=(0.5, 1.05),\n",
    "#           ncol=3, fancybox=True, shadow=True)\n",
    "\n",
    "    # ylim\n",
    "    if ylim != False:\n",
    "        plt.ylim(0,ylim)\n",
    "        \n",
    "    # xlim\n",
    "    plt.xlim(-1, len(X_labels))\n",
    "\n",
    "    # title\n",
    "    plt.title(title)\n",
    "    plt.xlabel(xtitle)\n",
    "    plt.ylabel(ytitle)\n",
    "\n",
    "    # save\n",
    "    if save != False:\n",
    "        plt.savefig(str(save) + \".pdf\",format=\"pdf\",transparent=True, bbox_inches='tight')\n",
    "\n",
    "Fdb = Bdb.copy()\n",
    "\n",
    "# Add blanks\n",
    "table = defaultdict(list)\n",
    "for b in ['bl1', 'bl2'] + list(set(Pdb['public_code']) - set(Fdb['sample'])):\n",
    "    table['sample'].append(b)\n",
    "    table['name2'].append(Fdb['name2'].tolist()[0])\n",
    "    table['pp'].append(0)\n",
    "Fdb = Fdb.append(pd.DataFrame(table))\n",
    "    \n",
    "# Re-order\n",
    "#print('\",\\\\\\n\"'.join(list(Gdb['sample'].unique())))\n",
    "order = [\\\n",
    "\"S2_003_000R1\",\\\n",
    "\"S2_005_001R1\",\\\n",
    "\"S2_005_002R1\",\\\n",
    "\"S2_005_003R1\",\\\n",
    "\"S2_006_000R1\",\\\n",
    "\"S2_009_000R1\",\\\n",
    "\"S2_012_000R1\",\\\n",
    "\"S2_018_000R1\",\\\n",
    "\"bl1\",\\\n",
    "\"S2_003_000R2\",\\\n",
    "\"S2_005_001R2\",\\\n",
    "\"S2_005_002R2\",\\\n",
    "\"S2_005_003R2\",\\\n",
    "\"S2_006_000R2\",\\\n",
    "\"S2_009_000R2\",\\\n",
    "\"S2_012_000R2\",\\\n",
    "\"S2_018_000R2\",\\\n",
    "\"bl2\",\\\n",
    "\"S2_003_000R3\",\\\n",
    "\"S2_005_001R3\",\\\n",
    "\"S2_005_002R3\",\\\n",
    "\"S2_005_003R3\",\\\n",
    "\"S2_006_000R3\",\\\n",
    "\"S2_009_000R3\",\\\n",
    "\"S2_012_000R3\",\\\n",
    "\"S2_018_000R3\"]\n",
    "Fdb['sample'] = pd.Categorical(Fdb['sample'], order)\n",
    "Fdb.sort_values(['sample', 'name2'], inplace=True)\n",
    "#assert len(Fdb['sample'].unique()) == 26, len(Fdb['sample'].unique())\n",
    "\n",
    "# set up xlabel translation\n",
    "#s2s = {'R1':'swabs', 'R2':'sinks', 'R3':'wipes'}\n",
    "x2x = {x:x[:6] for x in Fdb['sample'].unique()}\n",
    "x2x['bl1'] = ''\n",
    "x2x['bl2'] = ''\n",
    "\n",
    "# Do normal plot\n",
    "sns.set_style('white')\n",
    "matplotlib.rcParams.update({'font.size': 12})\n",
    "simple_stacks_v2_custom(data=Fdb, x='sample', y='pp', hue='name2', width=0.9, x2x=x2x)\n",
    "\n",
    "# Adjust\n",
    "fig = matplotlib.pyplot.gcf()\n",
    "fig.set_size_inches(8, 5)\n",
    "plt.ylim(0,4)\n",
    "plt.yticks([0,1,2,3,4])\n",
    "plt.gca().yaxis.grid(True)\n",
    "plt.ylabel('Percentage of metagenomic sample reads (%)')\n",
    "plt.xlabel(\"Sample\")\n",
    "plt.title('Quantification of DNA from Eukaryotic organisms in the \\nNICU Room Environment', size=16)\n",
    "\n",
    "#plt.savefig(fig_loc + 'raw_NICU_Quant_v3' + \".pdf\",format=\"pdf\",transparent=True, bbox_inches='tight')\n",
    "plt.show()"
   ]
  }
 ],
 "metadata": {
  "kernelspec": {
   "display_name": "Python 3.6.1",
   "language": "python",
   "name": "python3"
  },
  "language_info": {
   "codemirror_mode": {
    "name": "ipython",
    "version": 3
   },
   "file_extension": ".py",
   "mimetype": "text/x-python",
   "name": "python",
   "nbconvert_exporter": "python",
   "pygments_lexer": "ipython3",
   "version": "3.6.1"
  }
 },
 "nbformat": 4,
 "nbformat_minor": 1
}
