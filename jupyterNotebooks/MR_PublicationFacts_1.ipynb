{
 "cells": [
  {
   "cell_type": "code",
   "execution_count": 1,
   "metadata": {},
   "outputs": [],
   "source": [
    "import os\n",
    "import sys\n",
    "import glob\n",
    "import scipy\n",
    "import matplotlib\n",
    "import numpy as np\n",
    "import pandas as pd\n",
    "import seaborn as sns\n",
    "from collections import defaultdict\n",
    "from matplotlib import pyplot as plt\n",
    "from matplotlib.backends.backend_pdf import PdfPages\n",
    "\n",
    "%matplotlib inline\n",
    "sns.set_style('whitegrid')\n",
    "pd.set_option('display.max_rows', 100)\n",
    "matplotlib.rcParams['ps.fonttype'] = 42\n",
    "matplotlib.rcParams['pdf.fonttype'] = 42\n",
    "pd.set_option('display.max_columns', 100)\n",
    "\n",
    "sys.path.append('/home/mattolm/Bio_scripts/')\n",
    "\n",
    "from IPython.display import display, HTML\n",
    "\n",
    "import warnings\n",
    "warnings.filterwarnings(\"ignore\")"
   ]
  },
  {
   "cell_type": "code",
   "execution_count": 2,
   "metadata": {},
   "outputs": [],
   "source": [
    "sheetloc = '/data8/Human/FungiPaper/Datasheets/'\n",
    "fig_loc = '/data8/Human/FungiPaper/figures/'"
   ]
  },
  {
   "cell_type": "code",
   "execution_count": 3,
   "metadata": {},
   "outputs": [],
   "source": [
    "Rdb = pd.read_csv('/home/mattolm/ReadLists/ProjectInformation/ROOM_project_info.csv')\n",
    "\n",
    "Pdb = pd.read_csv('/home/mattolm/ReadLists/ProjectInformation/project_info.csv')\n",
    "Pdb = Pdb[Pdb['DOL'] != 0]\n",
    "Pdb = Pdb[Pdb['infant'] != 'S2_CON']"
   ]
  },
  {
   "cell_type": "code",
   "execution_count": 4,
   "metadata": {},
   "outputs": [
    {
     "name": "stdout",
     "output_type": "stream",
     "text": [
      "161 infants, 1174 samples, median 7.291925465838509 samples/infant\n"
     ]
    }
   ],
   "source": [
    "print(\"{0} infants, {1} samples, median {2} samples/infant\".format(\\\n",
    "    len(Pdb['infant'].unique()), len(Pdb['public_code'].unique()),\\\n",
    "    np.mean(list(dict(Pdb['infant'].value_counts()).values()))))"
   ]
  },
  {
   "cell_type": "code",
   "execution_count": 5,
   "metadata": {},
   "outputs": [
    {
     "data": {
      "text/plain": [
       "121"
      ]
     },
     "execution_count": 5,
     "metadata": {},
     "output_type": "execute_result"
    }
   ],
   "source": [
    "Pdb['DOL'].max()"
   ]
  },
  {
   "cell_type": "code",
   "execution_count": 6,
   "metadata": {},
   "outputs": [
    {
     "name": "stdout",
     "output_type": "stream",
     "text": [
      "5.31Tbp\n"
     ]
    }
   ],
   "source": [
    "print(\"{0:.2f}Tbp\".format((Rdb['read_bases'].sum() + Pdb['read_bases'].sum())/1000000000000))"
   ]
  },
  {
   "cell_type": "markdown",
   "metadata": {},
   "source": [
    "## Swabs and wipes"
   ]
  },
  {
   "cell_type": "code",
   "execution_count": 7,
   "metadata": {},
   "outputs": [
    {
     "data": {
      "text/plain": [
       "38.0"
      ]
     },
     "execution_count": 7,
     "metadata": {},
     "output_type": "execute_result"
    }
   ],
   "source": [
    "Wdb = pd.read_table('/home/mattolm/ReadLists/misc/SloanSamplePooling.txt', header=3)\n",
    "np.median(list(dict(Wdb['room_mg'].value_counts()).values()))"
   ]
  },
  {
   "cell_type": "markdown",
   "metadata": {},
   "source": [
    "### New campaign"
   ]
  },
  {
   "cell_type": "code",
   "execution_count": 8,
   "metadata": {},
   "outputs": [
    {
     "name": "stdout",
     "output_type": "stream",
     "text": [
      "53 infants, 269 samples, median 5.0754716981132075 samples/infant\n"
     ]
    }
   ],
   "source": [
    "pdb = Pdb[Pdb['campaign'] == 'NIH5']\n",
    "print(\"{0} infants, {1} samples, median {2} samples/infant\".format(\\\n",
    "    len(pdb['infant'].unique()), len(pdb['public_code'].unique()),\\\n",
    "    np.mean(list(dict(pdb['infant'].value_counts()).values()))))"
   ]
  },
  {
   "cell_type": "markdown",
   "metadata": {},
   "source": [
    "# Sequencing depth"
   ]
  },
  {
   "cell_type": "code",
   "execution_count": 9,
   "metadata": {},
   "outputs": [
    {
     "name": "stdout",
     "output_type": "stream",
     "text": [
      "3.459721555\n"
     ]
    }
   ],
   "source": [
    "print(\"{0}\".format(Pdb['read_bases'].median()/1000000000))"
   ]
  },
  {
   "cell_type": "markdown",
   "metadata": {},
   "source": [
    "## Limit of detection"
   ]
  },
  {
   "cell_type": "code",
   "execution_count": 10,
   "metadata": {},
   "outputs": [
    {
     "name": "stdout",
     "output_type": "stream",
     "text": [
      "161 infants, 161 samples, median 1.0 samples/infant\n",
      "27.50Gbp median depth\n",
      "13656420bp median length\n",
      "Limit is 0.055%\n"
     ]
    }
   ],
   "source": [
    "FIdb = pd.read_csv(sheetloc + 'MappingListGamma_coverageInfantsParsed_filtered_v1.csv')\n",
    "FIdb = FIdb[FIdb['sample'].str.contains('000G1')]\n",
    "FIdb.sort_values('coverage')\n",
    "MIN_COV = 1.1\n",
    "\n",
    "POdb = pd.read_csv('/home/mattolm/ReadLists/ProjectInformation/project_info.csv')\n",
    "POdb = POdb[POdb['DOL'] == 0]\n",
    "POdb = POdb[POdb['infant'] != 'S2_CON']\n",
    "print(\"{0} infants, {1} samples, median {2} samples/infant\".format(\\\n",
    "    len(POdb['infant'].unique()), len(POdb['public_code'].unique()),\\\n",
    "    np.mean(list(dict(POdb['infant'].value_counts()).values()))))\n",
    "MED_DEPTH = POdb['read_bases'].median()\n",
    "print(\"{0:.2f}Gbp median depth\".format(MED_DEPTH/1000000000))\n",
    "\n",
    "MED = FIdb.drop_duplicates(subset=['genome'])['length'].median()\n",
    "print(\"{0:.0f}bp median length\".format(MED))\n",
    "\n",
    "lim = (MIN_COV*MED)/MED_DEPTH\n",
    "print(\"Limit is {0:.3f}%\".format(lim*100))"
   ]
  }
 ],
 "metadata": {
  "kernelspec": {
   "display_name": "Python 3.6.1",
   "language": "python",
   "name": "python3"
  },
  "language_info": {
   "codemirror_mode": {
    "name": "ipython",
    "version": 3
   },
   "file_extension": ".py",
   "mimetype": "text/x-python",
   "name": "python",
   "nbconvert_exporter": "python",
   "pygments_lexer": "ipython3",
   "version": "3.6.1"
  }
 },
 "nbformat": 4,
 "nbformat_minor": 2
}
